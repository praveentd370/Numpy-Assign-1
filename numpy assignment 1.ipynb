{
 "cells": [
  {
   "cell_type": "code",
   "execution_count": 6,
   "id": "c2a0f59c",
   "metadata": {},
   "outputs": [
    {
     "data": {
      "text/plain": [
       "array([0., 0., 0., 0., 1., 0., 0., 0., 0., 0.])"
      ]
     },
     "execution_count": 6,
     "metadata": {},
     "output_type": "execute_result"
    }
   ],
   "source": [
    "#Create a null vector of size 10 but the fifth value which is 1.\n",
    "import numpy as np\n",
    "x=np.zeros(10);x[4]=1\n",
    "x"
   ]
  },
  {
   "cell_type": "code",
   "execution_count": 9,
   "id": "a7622f1a",
   "metadata": {},
   "outputs": [
    {
     "data": {
      "text/plain": [
       "array([10, 11, 12, 13, 14, 15, 16, 17, 18, 19, 20, 21, 22, 23, 24, 25, 26,\n",
       "       27, 28, 29, 30, 31, 32, 33, 34, 35, 36, 37, 38, 39, 40, 41, 42, 43,\n",
       "       44, 45, 46, 47, 48, 49])"
      ]
     },
     "execution_count": 9,
     "metadata": {},
     "output_type": "execute_result"
    }
   ],
   "source": [
    "#Create a vector with values ranging from 10 to 49.\n",
    "np.arange(10,50)"
   ]
  },
  {
   "cell_type": "code",
   "execution_count": 24,
   "id": "3e929652",
   "metadata": {},
   "outputs": [
    {
     "data": {
      "text/plain": [
       "array([[1, 6, 3],\n",
       "       [6, 3, 4],\n",
       "       [1, 2, 1]])"
      ]
     },
     "execution_count": 24,
     "metadata": {},
     "output_type": "execute_result"
    }
   ],
   "source": [
    " #Create a 3x3 matrix with values ranging from 0 to 8\n",
    "    \n",
    "np.random.randint(0,8 ,(3,3))"
   ]
  },
  {
   "cell_type": "code",
   "execution_count": 23,
   "id": "5588a8dd",
   "metadata": {},
   "outputs": [
    {
     "name": "stdout",
     "output_type": "stream",
     "text": [
      "[[0.94241323 0.52754173 0.01374253 0.48607367 0.53931235 0.4331803\n",
      "  0.33834337 0.91972765 0.93551675 0.15438386]\n",
      " [0.27186739 0.97071324 0.49448744 0.50372007 0.29825118 0.79747136\n",
      "  0.9242057  0.53310244 0.18431465 0.13461155]\n",
      " [0.31801102 0.07811242 0.66506955 0.07009856 0.02756839 0.60317666\n",
      "  0.67866087 0.18475505 0.30525769 0.64175552]\n",
      " [0.96257656 0.96839694 0.12010906 0.82830514 0.13443275 0.88673641\n",
      "  0.37826003 0.34730896 0.61412176 0.12315664]\n",
      " [0.48198706 0.53331898 0.80459612 0.29303985 0.08032898 0.9733284\n",
      "  0.74744786 0.59744561 0.78846217 0.39860868]\n",
      " [0.57701197 0.85530859 0.55592542 0.67050514 0.98561219 0.34470094\n",
      "  0.961889   0.77110341 0.55126035 0.5482957 ]\n",
      " [0.39037328 0.22252519 0.67652704 0.82468448 0.75789653 0.90036673\n",
      "  0.42375395 0.72361294 0.29478106 0.84517474]\n",
      " [0.58428373 0.9236216  0.11975841 0.80188716 0.75932315 0.80191156\n",
      "  0.26090861 0.55882608 0.39882679 0.69439186]\n",
      " [0.85925545 0.63006466 0.17164811 0.91666114 0.72567607 0.67525637\n",
      "  0.30484034 0.90226201 0.34538684 0.95956926]\n",
      " [0.88853372 0.22728757 0.21255949 0.38761575 0.78170534 0.94240986\n",
      "  0.68070627 0.28546457 0.59001195 0.24204279]]\n",
      "max value: 0.9856121908235295\n",
      "min value: 0.013742531060488394\n"
     ]
    }
   ],
   "source": [
    "#Create a 10x10 array with random values and find the minimum and maximum values.\n",
    "x=np.random.rand(10,10)\n",
    "print(x)\n",
    "print(\"max value:\",x.max())\n",
    "print(\"min value:\",x.min())"
   ]
  },
  {
   "cell_type": "code",
   "execution_count": 27,
   "id": "7e84f48e",
   "metadata": {
    "scrolled": true
   },
   "outputs": [
    {
     "name": "stdout",
     "output_type": "stream",
     "text": [
      "[0.09169975 0.97627419 0.97870301 0.32748943 0.53863512 0.14097605\n",
      " 0.83317013 0.07279657 0.15377786 0.64396779 0.7870985  0.34199546\n",
      " 0.72836216 0.78647175 0.06963919 0.12193551 0.6613171  0.44184882\n",
      " 0.43392758 0.09102337 0.41221023 0.68515465 0.30698407 0.78277005\n",
      " 0.11714211 0.114662   0.46214184 0.13340083 0.25993135 0.7491967 ]\n",
      "mean value 0.4414901053957481\n"
     ]
    }
   ],
   "source": [
    "#Create a random vector of size 30 and find the mean value.\n",
    "x=np.random.rand(30)\n",
    "print(x)\n",
    "print('mean value',x.mean())"
   ]
  },
  {
   "cell_type": "code",
   "execution_count": 31,
   "id": "bc8e5363",
   "metadata": {},
   "outputs": [
    {
     "name": "stdout",
     "output_type": "stream",
     "text": [
      "[1 2 0 0 4 0]\n",
      "indices of non zero:\n",
      " (array([0, 1, 4], dtype=int64),)\n"
     ]
    }
   ],
   "source": [
    " #Find indices of non-zero elements from [1,2,0,0,4,0]\n",
    "x=np.array( [1,2,0,0,4,0])\n",
    "print(x)\n",
    "y=np.nonzero(x)\n",
    "print('indices of non zero:\\n',y)"
   ]
  }
 ],
 "metadata": {
  "kernelspec": {
   "display_name": "Python 3 (ipykernel)",
   "language": "python",
   "name": "python3"
  },
  "language_info": {
   "codemirror_mode": {
    "name": "ipython",
    "version": 3
   },
   "file_extension": ".py",
   "mimetype": "text/x-python",
   "name": "python",
   "nbconvert_exporter": "python",
   "pygments_lexer": "ipython3",
   "version": "3.9.12"
  }
 },
 "nbformat": 4,
 "nbformat_minor": 5
}
